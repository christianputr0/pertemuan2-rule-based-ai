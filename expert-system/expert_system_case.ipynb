{
 "cells": [
  {
   "cell_type": "markdown",
   "metadata": {},
   "source": [
    "### Forward Chain\n"
   ]
  },
  {
   "cell_type": "code",
   "execution_count": null,
   "metadata": {},
   "outputs": [],
   "source": [
    "def bool_converter(option):\n",
    "    if option.lower() == \"Ya\":\n",
    "        return True\n",
    "    elif option.lower() == \"Tidak\":\n",
    "        return False\n",
    "    else:\n",
    "        raise Exception(\"Error.. Tolong pilih ya atau tidak!\") \n",
    "\n",
    "bertaring = bool(input(\"Apakah hewan tersebut bertaring? [YA / TIDAK]\"))\n",
    "warna_bulu_berpola = bool(input(\"Apakah hewan tersebut bulunya berpola? [YA / TIDAK]\"))\n",
    "kepala_berbulu_lebat = bool(input(\"Apakah hewan tersebut kepalanya berbulu lebat? [YA / TIDAK]\"))\n",
    "berbulu_lebat = bool(input(\"Apakah hewan tersebut berbulu lebat? [YA / TIDAK]\"))\n",
    "berbulu_tipis = bool(input(\"Apakah hewan tersebut berbulut tipis? [YA / TIDAK]\"))\n",
    "makan_daging = bool(input(\"Apakah hewan tersebut makan daging? [YA / TIDAK]\"))\n",
    "makan_buah = bool(input(\"Apakah hewan tersebut makan buah? [YA / TIDAK]\"))\n",
    "berleher_panjang = bool(input(\"Apakah hewan tersebut berleher panjang? [YA / TIDAK]\"))\n",
    "\n",
    "if bertaring and kepala_berbulu_lebat and makan_daging:\n",
    "    print(\"\\nItu SINGA JANTAN\")\n",
    "elif bertaring and makan_daging and warna_bulu_berpola:\n",
    "    print(\"\\nItu MACAN TUTUL\")\n",
    "elif makan_buah and berbulu_lebat:\n",
    "    print(\"\\nItu ORANGUTAN\")\n",
    "elif makan_buah and berbulu_tipis and berleher_panjang and warna_bulu_berpola:\n",
    "    print(\"\\nItu JERAPAH\")\n",
    "elif berbulu_lebat and bertaring and warna_bulu_berpola and makan_buah:\n",
    "    print(\"\\nItu PANDA\")\n",
    "elif berbulu_lebat and bertaring and warna_bulu_berpola and makan_daging:\n",
    "    print(\"\\nItu BERUANG\")\n",
    "\n",
    "else:\n",
    "    print(\"Tidak ditemukan!\")"
   ]
  },
  {
   "cell_type": "markdown",
   "metadata": {},
   "source": [
    "### Backward Chain"
   ]
  },
  {
   "cell_type": "code",
   "execution_count": null,
   "metadata": {},
   "outputs": [],
   "source": [
    "def bool_converter(option):\n",
    "    if option.lower() == \"Ya\":\n",
    "        return True\n",
    "    elif option.lower() == \"Tidak\":\n",
    "        return False\n",
    "    else:\n",
    "        raise Exception(\"Error.. Tolong pilih YA atau TIDAK!\") \n",
    "    \n",
    "#   input\n",
    "hewan = ['singa jantan', 'macan tutul', 'orangutan', 'jerapah', 'panda', 'beruang']\n",
    "\n",
    "nama = str(input(\"Pilih hewan berikut: ['singa jantan', 'macan tutul', 'orangutan', 'jerapah', 'panda', 'beruang']\"))\n",
    "\n",
    "if nama in hewan:\n",
    "    bertaring = bool_converter(input(\"Apakah hewan tersebut bertaring? [YA / TIDAK]\"))\n",
    "    warna_bulu_berpola = bool_converter(input(\"Apakah hewan tersebut bulunya berpola? [YA / TIDAK]\"))\n",
    "    kepala_berbulu_lebat = bool_converter(input(\"Apakah hewan tersebut kepalanya berbulu lebat? [YA / TIDAK]\"))\n",
    "    berbulu_lebat = bool_converter(input(\"Apakah hewan tersebut berbulu lebat? [YA / TIDAK]\"))\n",
    "    berbulu_tipis = bool_converter(input(\"Apakah hewan tersebut berbulut tipis? [YA / TIDAK]\"))\n",
    "    makan_daging = bool_converter(input(\"Apakah hewan tersebut makan daging? [YA / TIDAK]\"))\n",
    "    makan_buah = bool_converter(input(\"Apakah hewan tersebut makan buah? [YA / TIDAK]\"))\n",
    "    berleher_panjang = bool_converter(input(\"Apakah hewan tersebut berleher panjang? [YA / TIDAK]\"))\n",
    "else:\n",
    "    raise Exception(\"Error.. Tolong pilih YA atau TIDAK!\")\n",
    "\n",
    "if bertaring and kepala_berbulu_lebat and makan_daging:\n",
    "    print(\"\\nItu SINGA JANTAN\")\n",
    "elif bertaring and makan_daging and warna_bulu_berpola:\n",
    "    print(\"\\nItu MACAN TUTUL\")\n",
    "elif makan_buah and berbulu_lebat:\n",
    "    print(\"\\nItu ORANGUTAN\")\n",
    "elif makan_buah and berbulu_tipis and berleher_panjang and warna_bulu_berpola:\n",
    "    print(\"\\nItu JERAPAH\")\n",
    "elif berbulu_lebat and bertaring and warna_bulu_berpola and makan_buah:\n",
    "    print(\"\\nItu PANDA\")\n",
    "elif berbulu_lebat and bertaring and warna_bulu_berpola and makan_daging:\n",
    "    print(\"\\nItu BERUANG\")\n",
    "\n",
    "else:\n",
    "    print(\"Tidak ditemukan!\")\n"
   ]
  }
 ],
 "metadata": {
  "kernelspec": {
   "display_name": ".introduction-venv",
   "language": "python",
   "name": "python3"
  },
  "language_info": {
   "codemirror_mode": {
    "name": "ipython",
    "version": 3
   },
   "file_extension": ".py",
   "mimetype": "text/x-python",
   "name": "python",
   "nbconvert_exporter": "python",
   "pygments_lexer": "ipython3",
   "version": "3.10.12"
  },
  "orig_nbformat": 4
 },
 "nbformat": 4,
 "nbformat_minor": 2
}
