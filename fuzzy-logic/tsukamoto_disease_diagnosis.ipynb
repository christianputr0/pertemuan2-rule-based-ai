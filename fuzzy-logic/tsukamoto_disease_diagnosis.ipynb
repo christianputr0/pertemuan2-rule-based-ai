{
 "cells": [
  {
   "cell_type": "markdown",
   "metadata": {},
   "source": [
    "# **TSUKAMOTO FUZZY**"
   ]
  },
  {
   "cell_type": "markdown",
   "metadata": {},
   "source": [
    "Metode **Fuzzy Tsukamoto** digunakan dalam sistem inferensi fuzzy untuk mengatasi ketidakpastian dan ketidakjelasan dalam masalah pengambilan keputusan. Dalam konteks kasus diagnosis penyakit jantung, metode ini digunakan untuk **menyusun aturan fuzzy yang menghubungkan variabel input** (seperti usia, tekanan darah, kolesterol, dll.) dengan **variabel output, yaitu tingkat risiko penyakit jantung**"
   ]
  },
  {
   "cell_type": "markdown",
   "metadata": {},
   "source": [
    "1. Fungsi Keanggotaan:\n",
    "\n",
    "Setiap variabel input dan output memiliki fungsi keanggotaan yang mendefinisikan sejauh mana setiap nilai masukan atau keluaran termasuk dalam suatu himpunan fuzzy. Contohnya, fungsi keanggotaan \"young\" untuk variabel usia menunjukkan sejauh mana seseorang dianggap muda.\n",
    "\n",
    "2. Aturan Fuzzy:\n",
    "\n",
    "Aturan fuzzy menggambarkan hubungan antara kondisi masukan (premises) dan tingkat risiko penyakit jantung (konklusi). Dalam kasus ini, aturan-aturnya dapat berupa pernyataan seperti \"Jika usia muda, tekanan darah rendah, kolesterol rendah, LDL normal, dan HDL tinggi, maka risikonya rendah.\"\n",
    "\n",
    "1. Interpolasi dan Derajat Keanggotaan:\n",
    "\n",
    "Langkah ini melibatkan menghitung sejauh mana setiap aturan terpenuhi berdasarkan nilai masukan yang diberikan. Fungsi *`fuzz.interp_membership`* digunakan untuk menghitung derajat keanggotaan setiap variabel terhadap himpunan fuzzy yang sesuai.\n",
    "\n",
    "4. Inferensi:\n",
    "\n",
    "Setelah menghitung derajat keanggotaan, aturan-aturan fuzzy digunakan untuk menentukan derajat keanggotaan output (risiko penyakit jantung). Proses ini melibatkan operasi seperti fungsi *`np.fmin`* untuk menentukan nilai minimum antara derajat keanggotaan yang sesuai.\n",
    "\n",
    "5. Defuzzifikasi:\n",
    "\n",
    "Hasil inferensi yang diperoleh dari langkah sebelumnya adalah himpunan fuzzy pada variabel output (risiko). Proses defuzzifikasi, menggunakan fungsi *`fuzz.defuzz`*, mengubah himpunan fuzzy tersebut menjadi nilai tegas yang dapat diinterpretasikan.\n",
    "\n",
    "6. Diagnosis:\n",
    "\n",
    "Berdasarkan hasil defuzzifikasi, sistem memberikan diagnosis dan mengklasifikasikan tingkat risiko menjadi kategori seperti \"**Rendah**,\" \"**Sedang**,\" \"**Tinggi**,\" atau \"**Sangat Tinggi**.\"\n",
    "\n",
    "7. Output:\n",
    "\n",
    "Hasil diagnosis dan tingkat risiko dicetak untuk memberikan informasi kepada pengguna"
   ]
  },
  {
   "cell_type": "code",
   "execution_count": null,
   "metadata": {},
   "outputs": [],
   "source": [
    "import numpy as np\n",
    "import skfuzzy as fuzz\n",
    "import skfuzzy.membership as mf\n",
    "import matplotlib.pyplot as plt"
   ]
  },
  {
   "cell_type": "code",
   "execution_count": null,
   "metadata": {},
   "outputs": [],
   "source": [
    "input_age = input(\"Age: \")\n",
    "input_blood_pressure = input(\"Blood Pressure: \")\n",
    "input_cholesterol = input(\"Cholesterol: \")\n",
    "input_blood_sugar = input(\"Blood Sugar: \")\n",
    "input_ldl = input(\"LDL: \")\n",
    "input_hdl = input(\"HDL: \")\n",
    "\n",
    "\n",
    "x_age = np.arange(0, 101, 1)\n",
    "x_blood_pressure = np.arange(0, 221, 1)\n",
    "x_cholesterol = np.arange(100, 251, 1)\n",
    "x_blood_sugar = np.arange(0, 121, 1)\n",
    "x_hdl = np.arange(0, 71, 1)\n",
    "x_ldl = np.arange(0, 191, 1)\n",
    "y_risk = np.arange(0, 46, 1)"
   ]
  },
  {
   "cell_type": "code",
   "execution_count": null,
   "metadata": {},
   "outputs": [],
   "source": [
    "age_young = mf.trapmf(x_age, [0, 0, 30, 40])\n",
    "age_mid = mf.trapmf(x_age, [30, 40, 50, 60]) \n",
    "age_old = mf.trapmf(x_age, [50, 60, 100, 100])\n",
    "\n",
    "blood_pressure_low = mf.trapmf(x_blood_pressure, [-30, -5, 100, 120])\n",
    "blood_pressure_mid = mf.trapmf(x_blood_pressure, [100, 120, 140, 160])\n",
    "blood_pressure_high = mf.trapmf(x_blood_pressure, [140, 160, 180, 200])\n",
    "blood_pressure_very_high = mf.trapmf(x_blood_pressure, [180, 200, 220, 220])\n",
    "\n",
    "cholesterol_low = mf.trapmf(x_cholesterol, [-30, -5, 180, 200])\n",
    "cholesterol_mid = mf.trapmf(x_cholesterol, [180, 200, 220, 240])\n",
    "cholesterol_high = mf.trapmf(x_cholesterol, [220, 240, 250, 270])\n",
    "\n",
    "blood_sugar_very_high = mf.trimf(x_blood_sugar, [90, 120, 130])"
   ]
  },
  {
   "cell_type": "code",
   "execution_count": null,
   "metadata": {},
   "outputs": [],
   "source": [
    "ldl_normal= mf.trimf(x_ldl, [0, 0, 100,])\n",
    "ldl_limit= mf.trimf(x_ldl, [100, 130, 160,])\n",
    "ldl_high= mf.trimf(x_ldl, [130, 160, 190,])\n",
    "ldl_very_high= mf.trapmf(x_ldl, [160, 190, 200, 200])\n",
    "\n",
    "hdl_low= mf.trapmf(x_hdl, [0, 0, 30, 40])\n",
    "hdl_mid= mf.trapmf(x_hdl, [30, 40, 50, 60])\n",
    "hdl_high= mf.trapmf(x_hdl, [50, 60, 80, 80])\n",
    "\n",
    "risk_not = mf.trapmf(y_risk, [0 ,0 ,5 ,10])\n",
    "risk_little = mf.trapmf(y_risk, [5 ,10 ,15 ,20])\n",
    "risk_mid = mf.trapmf(y_risk, [15 ,20 ,25 ,30])\n",
    "risk_high = mf.trapmf(y_risk, [25 ,30 ,35 ,40])\n",
    "risk_very_high = mf.trapmf(y_risk, [35, 40, 45, 50])"
   ]
  },
  {
   "cell_type": "code",
   "execution_count": null,
   "metadata": {},
   "outputs": [],
   "source": [
    "age_fit_young = fuzz.interp_membership(x_age, age_young, input_age)\n",
    "age_fit_mid = fuzz.interp_membership(x_age, age_mid, input_age)\n",
    "age_fit_old = fuzz.interp_membership(x_age, age_old, input_age)\n",
    "\n",
    "blood_pressure_fit_low = fuzz.interp_membership(x_blood_pressure, blood_pressure_low, input_blood_pressure)\n",
    "blood_pressure_fit_mid = fuzz.interp_membership(x_blood_pressure, blood_pressure_mid, input_blood_pressure)\n",
    "blood_pressure_fit_high = fuzz.interp_membership(x_blood_pressure, blood_pressure_high , input_blood_pressure)\n",
    "blood_pressure_fit_very_high = fuzz.interp_membership(x_blood_pressure, blood_pressure_very_high, input_blood_pressure)\n",
    "\n",
    "cholesterol_fit_low = fuzz.interp_membership(x_cholesterol, cholesterol_low, input_cholesterol)\n",
    "cholesterol_fit_mid = fuzz.interp_membership(x_cholesterol, cholesterol_mid, input_cholesterol)\n",
    "cholesterol_fit_high = fuzz.interp_membership(x_cholesterol, cholesterol_high, input_cholesterol)"
   ]
  },
  {
   "cell_type": "code",
   "execution_count": null,
   "metadata": {},
   "outputs": [],
   "source": [
    "blood_sugar_fit_very_high = fuzz.interp_membership(x_blood_sugar, blood_sugar_very_high, input_blood_sugar)\n",
    "\n",
    "ldl_fit_normal = fuzz.interp_membership(x_ldl, ldl_normal, input_ldl)\n",
    "ldl_fit_limit = fuzz.interp_membership(x_ldl, ldl_limit, input_ldl)\n",
    "ldl_fit_high = fuzz.interp_membership(x_ldl,ldl_high , input_ldl)\n",
    "ldl_fit_very_high = fuzz.interp_membership(x_ldl, ldl_very_high, input_ldl)\n",
    "\n",
    "hdl_fit_low = fuzz.interp_membership(x_hdl, hdl_low, input_hdl)\n",
    "hdl_fit_mid = fuzz.interp_membership(x_hdl, hdl_mid, input_hdl)\n",
    "hdl_fit_high = fuzz.interp_membership(x_hdl, hdl_high, input_hdl)"
   ]
  },
  {
   "cell_type": "code",
   "execution_count": null,
   "metadata": {},
   "outputs": [],
   "source": [
    "rule1 = np.fmin(np.fmin(np.fmin(np.fmin(blood_pressure_fit_low ,cholesterol_fit_low),ldl_fit_normal), hdl_fit_high), risk_not)\n",
    "rule2 = np.fmin(np.fmin(np.fmin(np.fmin(blood_pressure_fit_low ,cholesterol_fit_low),ldl_fit_limit), hdl_fit_high), risk_little) \n",
    "rule3 = np.fmin(np.fmin(np.fmin(np.fmin(blood_pressure_fit_low ,cholesterol_fit_low),ldl_fit_high), hdl_fit_high), risk_mid) \n",
    "rule4 = np.fmin(np.fmin(np.fmin(np.fmin(blood_pressure_fit_low ,cholesterol_fit_low),ldl_fit_very_high), hdl_fit_high), risk_high) \n",
    "rule5 = np.fmin(np.fmin(np.fmin(blood_pressure_fit_mid ,cholesterol_fit_low), hdl_fit_high), risk_not) \n",
    "\n",
    "rule6 = np.fmin(np.fmin(np.fmin(age_fit_young, blood_pressure_fit_mid), cholesterol_fit_mid), risk_not)\n",
    "rule7 = np.fmin(np.fmin(np.fmin(age_fit_mid, blood_pressure_fit_mid), cholesterol_fit_mid), risk_not) \n",
    "rule8 = np.fmin(np.fmin(np.fmin(age_fit_old, blood_pressure_fit_mid), cholesterol_fit_mid), risk_not) \n",
    "rule9 = np.fmin(np.fmin(np.fmin(age_fit_young, blood_pressure_fit_high), cholesterol_fit_high), risk_mid) \n",
    "rule10 = np.fmin(np.fmin(np.fmin(age_fit_mid, blood_pressure_fit_high), cholesterol_fit_high), risk_high) \n",
    "rule11 = np.fmin(np.fmin(np.fmin(age_fit_old, blood_pressure_fit_high), cholesterol_fit_high), risk_very_high) \n",
    "\n",
    "rule12 = np.fmin(np.fmin(np.fmin(np.fmin(np.fmin(age_fit_young, blood_pressure_fit_mid), cholesterol_fit_low), ldl_fit_normal), hdl_fit_low), risk_not) \n",
    "rule13 = np.fmin(np.fmin(age_fit_young, blood_sugar_fit_very_high), risk_little) \n",
    "rule14 = np.fmin(np.fmin(age_fit_mid, blood_sugar_fit_very_high), risk_high) \n",
    "rule15 = np.fmin(np.fmin(age_fit_old, blood_sugar_fit_very_high), risk_very_high) \n",
    "rule16 = np.fmin(np.fmin(np.fmin(np.fmin(np.fmin(np.fmin(age_fit_young, blood_pressure_fit_low), cholesterol_fit_low), blood_sugar_fit_very_high), ldl_fit_normal), hdl_fit_high), risk_little) \n",
    "rule17 = np.fmin(np.fmin(np.fmin(np.fmin(np.fmin(np.fmin(age_fit_mid, blood_pressure_fit_low), cholesterol_fit_low), blood_sugar_fit_very_high), ldl_fit_normal), hdl_fit_high), risk_high) \n",
    "rule18 = np.fmin(np.fmin(np.fmin(np.fmin(np.fmin(np.fmin(age_fit_old, blood_pressure_fit_low), cholesterol_fit_low), blood_sugar_fit_very_high), ldl_fit_normal), hdl_fit_high), risk_very_high) \n",
    "rule19 = np.fmin(np.fmin(np.fmin(np.fmin(np.fmin(np.fmin(age_fit_mid, blood_pressure_fit_low), cholesterol_fit_low), blood_sugar_fit_very_high), ldl_fit_very_high), hdl_fit_high), risk_very_high) \n",
    "\n",
    "rule20 = np.fmin(np.fmin(np.fmin(np.fmin(blood_pressure_fit_very_high, cholesterol_fit_high), ldl_fit_very_high), hdl_fit_high), risk_very_high) \n",
    "rule21 = np.fmin(np.fmin(np.fmin(np.fmin(blood_pressure_fit_high, cholesterol_fit_high), ldl_fit_high), hdl_fit_mid), risk_very_high) \n",
    "rule22 = np.fmin(np.fmin(np.fmin(np.fmin(np.fmin(age_fit_young, blood_pressure_fit_very_high), cholesterol_fit_high), ldl_fit_very_high), hdl_fit_mid), risk_mid) \n",
    "rule23 = np.fmin(np.fmin(age_fit_mid, blood_pressure_fit_very_high), risk_very_high)  \n",
    "rule24 = np.fmin(np.fmin(age_fit_old, blood_pressure_fit_very_high), risk_very_high) "
   ]
  },
  {
   "cell_type": "code",
   "execution_count": null,
   "metadata": {},
   "outputs": [],
   "source": [
    "out_not = np.fmax(np.fmax(np.fmax(np.fmax(np.fmax(rule1,rule5),rule6),rule7),rule8),rule12)\n",
    "out_little = np.fmax(np.fmax(rule2,rule13),rule16)\n",
    "out_mid = np.fmax(np.fmax(rule3, rule9),rule22)\n",
    "out_high = np.fmax(np.fmax(np.fmax(rule4, rule10),rule14),rule17)\n",
    "out_very_high = np.fmax(np.fmax(np.fmax(np.fmax(np.fmax(np.fmax(np.fmax(rule11,rule15),rule18),rule19),rule20),rule21),rule23),rule24)\n",
    "\n",
    "out_risk = np.fmax(np.fmax(np.fmax(np.fmax(out_not, out_little), out_mid), out_high), out_very_high)\n",
    "\n",
    "defuzzified  = fuzz.defuzz(y_risk, out_risk, 'centroid')\n",
    "\n",
    "result = fuzz.interp_membership(y_risk, out_risk, defuzzified)\n",
    "\n",
    "print(\"Coroner Heart Diagnosis:\", defuzzified)"
   ]
  },
  {
   "cell_type": "code",
   "execution_count": null,
   "metadata": {},
   "outputs": [],
   "source": [
    "if defuzzified >= 0 and defuzzified <= 10 and np.max(out_not) > np.max(out_little):\n",
    "    print(\"Diagnosed as Not Risk\")\n",
    "if defuzzified >= 5 and defuzzified <= 20 and np.max(out_not) < np.max(out_little) and np.max(out_little) > np.max(out_mid):\n",
    "    print(\"Diagnosed as Little Risk\")\n",
    "if defuzzified >= 15 and defuzzified <= 30 and np.max(out_little) < np.max(out_mid) and np.max(out_mid) > np.max(out_high):\n",
    "    print(\"Diagnosed as Middle Risk\")\n",
    "if defuzzified >= 25 and defuzzified <= 40 and np.max(out_mid) < np.max(out_high) and np.max(out_high) > np.max(out_very_high):\n",
    "    print(\"Diagnosed as High Risk\")\n",
    "if defuzzified >= 35 and defuzzified <= 50 and np.max(out_high) < np.max(out_very_high):\n",
    "    print(\"Diagnosed as Very High Risk\")"
   ]
  }
 ],
 "metadata": {
  "kernelspec": {
   "display_name": ".rule-based-ai-venv",
   "language": "python",
   "name": "python3"
  },
  "language_info": {
   "codemirror_mode": {
    "name": "ipython",
    "version": 3
   },
   "file_extension": ".py",
   "mimetype": "text/x-python",
   "name": "python",
   "nbconvert_exporter": "python",
   "pygments_lexer": "ipython3",
   "version": "3.10.12"
  },
  "orig_nbformat": 4
 },
 "nbformat": 4,
 "nbformat_minor": 2
}
